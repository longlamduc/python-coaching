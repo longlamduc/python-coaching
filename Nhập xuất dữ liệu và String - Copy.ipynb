{
 "cells": [
  {
   "cell_type": "markdown",
   "id": "4ea42ec4",
   "metadata": {},
   "source": [
    "# Nhập xuất dữ liệu và String\n",
    "## Cách nhập xuất dữ liệu"
   ]
  },
  {
   "cell_type": "markdown",
   "id": "5457dfc2",
   "metadata": {},
   "source": [
    "### Xuất dữ liệu ra màn hình\n",
    "Để in các nội dung mà chúng ta mong muốn ra màn hình, ta sử dụng lệnh print()"
   ]
  },
  {
   "cell_type": "code",
   "execution_count": 10,
   "id": "0901c4fb",
   "metadata": {},
   "outputs": [
    {
     "name": "stdout",
     "output_type": "stream",
     "text": [
      "python is very easy\n"
     ]
    }
   ],
   "source": [
    "# Ví dụ: In ra nội dung \"python is very easy\"\n",
    "print(\"python is very easy\")"
   ]
  },
  {
   "cell_type": "markdown",
   "id": "d601b2f3",
   "metadata": {},
   "source": [
    "### Các cách custom với lệnh print"
   ]
  },
  {
   "cell_type": "markdown",
   "id": "1c30fff2",
   "metadata": {},
   "source": [
    "Để in một nội dung kèm theo giá trị của biến, ta có các cách sau:"
   ]
  },
  {
   "cell_type": "code",
   "execution_count": 1,
   "id": "c5180dc7",
   "metadata": {},
   "outputs": [],
   "source": [
    "# I love chocolate and I hate sandwich\n",
    "food_1 = \"chocolate\"\n",
    "food_2 = \"sandwich\""
   ]
  },
  {
   "cell_type": "code",
   "execution_count": 2,
   "id": "f53cdebe",
   "metadata": {
    "scrolled": true
   },
   "outputs": [
    {
     "name": "stdout",
     "output_type": "stream",
     "text": [
      "I love chocolate and I hate sandwich\n"
     ]
    }
   ],
   "source": [
    "# In trực tiếp\n",
    "print(\"I love chocolate and I hate sandwich\")"
   ]
  },
  {
   "cell_type": "code",
   "execution_count": null,
   "id": "f1a069d4",
   "metadata": {},
   "outputs": [],
   "source": [
    "# My name is--Tin--and I am--23--years old"
   ]
  },
  {
   "cell_type": "code",
   "execution_count": 15,
   "id": "b1312313",
   "metadata": {},
   "outputs": [
    {
     "name": "stdout",
     "output_type": "stream",
     "text": [
      "I love chocolate and I hate sandwich\n",
      "I love--chocolate--and I hate--sandwich\n"
     ]
    }
   ],
   "source": [
    "# In bằng cách ghép các nội dung với nhau\n",
    "# I love --food_1-- and I hate --food_2--\n",
    "print(\"I love\", food_1, \"and I hate\", food_2)\n",
    "\n",
    "# để thay đổi ký tự nối giữa các nội dung trong lệnh print, chúng ta sẽ sử dụng cú pháp sep='....'\n",
    "# sep là viết tắt của từ separate\n",
    "print(\"I love\", food_1, \"and I hate\", food_2, sep='--')"
   ]
  },
  {
   "cell_type": "code",
   "execution_count": 3,
   "id": "222f0101",
   "metadata": {},
   "outputs": [
    {
     "name": "stdout",
     "output_type": "stream",
     "text": [
      "I love --bread-- and I hate sandwich\n"
     ]
    }
   ],
   "source": [
    "# Sử dụng String Format\n",
    "print(f\"I love {food_1} and I hate {food_2}\")"
   ]
  },
  {
   "cell_type": "code",
   "execution_count": 4,
   "id": "46edd410",
   "metadata": {},
   "outputs": [
    {
     "name": "stdout",
     "output_type": "stream",
     "text": [
      "I love \n",
      "bread and I hate sandwich\n"
     ]
    }
   ],
   "source": [
    "# Sử dụng nhiều lệnh print\n",
    "print(\"I love \", end=\"\")\n",
    "print(food_1, end=\"\")\n",
    "print(\" and I hate \", end=\"\")\n",
    "print(food_2)"
   ]
  },
  {
   "cell_type": "markdown",
   "id": "60ffdb99",
   "metadata": {},
   "source": [
    "### Nhập dữ liệu\n",
    "Để nhập dữ liệu vào chương trình python, chúng ta sử dụng hàm input()"
   ]
  },
  {
   "cell_type": "code",
   "execution_count": 24,
   "id": "20a7f4b0",
   "metadata": {},
   "outputs": [
    {
     "name": "stdout",
     "output_type": "stream",
     "text": [
      "10\n"
     ]
    },
    {
     "data": {
      "text/plain": [
       "'10'"
      ]
     },
     "execution_count": 24,
     "metadata": {},
     "output_type": "execute_result"
    }
   ],
   "source": [
    "input()"
   ]
  },
  {
   "cell_type": "code",
   "execution_count": 31,
   "id": "78e92ac0",
   "metadata": {},
   "outputs": [
    {
     "name": "stdout",
     "output_type": "stream",
     "text": [
      "Hãy nhập chiều dài của hình chữ nhật: 100\n",
      "100\n",
      "<class 'int'>\n"
     ]
    }
   ],
   "source": [
    "chieu_dai = int(input(\"Hãy nhập chiều dài của hình chữ nhật: \"))\n",
    "print(chieu_dai)\n",
    "print(type(chieu_dai))"
   ]
  },
  {
   "cell_type": "markdown",
   "id": "64b58bc4",
   "metadata": {},
   "source": [
    "#### Thực hành: Viết chương trình nhập vào chiều dài và chiều rộng của hình chữ nhật, sau đó in ra chu vi và diện tích của hình chữ nhật đó"
   ]
  },
  {
   "cell_type": "code",
   "execution_count": null,
   "id": "075c82bf",
   "metadata": {},
   "outputs": [],
   "source": [
    "# Nhập các kích thước của hình chữ nhật"
   ]
  },
  {
   "cell_type": "code",
   "execution_count": 7,
   "id": "b97cd7e2",
   "metadata": {},
   "outputs": [],
   "source": [
    "# Tính toán chu vi, diện tích"
   ]
  },
  {
   "cell_type": "code",
   "execution_count": null,
   "id": "ae3e3ccb",
   "metadata": {},
   "outputs": [],
   "source": [
    "# In kết quả ra màn hình bằng 3 cách"
   ]
  },
  {
   "cell_type": "markdown",
   "id": "5853c01e",
   "metadata": {},
   "source": [
    "#### Thực hành: Viết chương trình nhập vào số đo cạnh và mã màu của tam giác đều, sau đó sử dụng turtle để vẽ ra hình tam giác có số đo và màu tương ứng"
   ]
  },
  {
   "cell_type": "code",
   "execution_count": null,
   "id": "ff0d8545",
   "metadata": {},
   "outputs": [],
   "source": []
  },
  {
   "cell_type": "markdown",
   "id": "ce08c37f",
   "metadata": {},
   "source": [
    "## Cú pháp import"
   ]
  },
  {
   "cell_type": "markdown",
   "id": "6a1bed2e",
   "metadata": {},
   "source": [
    "Để sử dụng một module từ bên ngoài, chúng ta sẽ sử dụng từ khóa import. Sau đây là ví dụ về một số cách import phổ biến."
   ]
  },
  {
   "cell_type": "markdown",
   "id": "470a3c2e",
   "metadata": {},
   "source": [
    "### Random một giá trị ngẫu nhiên"
   ]
  },
  {
   "cell_type": "code",
   "execution_count": 69,
   "id": "1670ff39",
   "metadata": {},
   "outputs": [
    {
     "name": "stdout",
     "output_type": "stream",
     "text": [
      "70\n"
     ]
    }
   ],
   "source": [
    "import random as r  # import thư viện random vào chương trình và đặt tên là r(tên sử dụng nội bộ trong chương trình)\n",
    "print(r.randint(0, 101))"
   ]
  },
  {
   "cell_type": "markdown",
   "id": "65bb6f18",
   "metadata": {},
   "source": [
    "### Thực hiện các phép toán số học"
   ]
  },
  {
   "cell_type": "code",
   "execution_count": 73,
   "id": "b01607b4",
   "metadata": {},
   "outputs": [
    {
     "name": "stdout",
     "output_type": "stream",
     "text": [
      "3.141592653589793\n",
      "8.0\n"
     ]
    }
   ],
   "source": [
    "# import toàn bộ module\n",
    "import math as m\n",
    "print(m.pi)\n",
    "print(m.pow(2, 3))"
   ]
  },
  {
   "cell_type": "code",
   "execution_count": 75,
   "id": "e9bb2dd0",
   "metadata": {},
   "outputs": [
    {
     "name": "stdout",
     "output_type": "stream",
     "text": [
      "3.141592653589793\n"
     ]
    }
   ],
   "source": [
    "# import một phần trong module\n",
    "from math import pi as p\n",
    "print(p)"
   ]
  },
  {
   "cell_type": "markdown",
   "id": "c76ceacb",
   "metadata": {},
   "source": [
    "## Xử lý String trong python"
   ]
  },
  {
   "cell_type": "markdown",
   "id": "28180ba9",
   "metadata": {},
   "source": [
    "### String là gì?\n",
    "String là một chuỗi gồm các ký tự Unicode"
   ]
  },
  {
   "cell_type": "markdown",
   "id": "7f5b5cf5",
   "metadata": {},
   "source": [
    "### Khởi tạo một string"
   ]
  },
  {
   "cell_type": "code",
   "execution_count": 76,
   "id": "7a66de54",
   "metadata": {},
   "outputs": [],
   "source": [
    "# one-line string\n",
    "course = \"Python\"\n",
    "gender = \"M\"\n",
    "question = \"What's your name?\""
   ]
  },
  {
   "cell_type": "code",
   "execution_count": 80,
   "id": "aa8338f9",
   "metadata": {},
   "outputs": [],
   "source": [
    "# multi-line string\n",
    "shape = '''\n",
    "*\n",
    "**\n",
    "***\n",
    "****\n",
    "*****\n",
    "******\n",
    "'''"
   ]
  },
  {
   "cell_type": "markdown",
   "id": "f8364600",
   "metadata": {},
   "source": [
    "### Các thao tác phổ biến với string"
   ]
  },
  {
   "cell_type": "code",
   "execution_count": 81,
   "id": "92d7b8b3",
   "metadata": {},
   "outputs": [
    {
     "name": "stdout",
     "output_type": "stream",
     "text": [
      "5\n",
      "6\n",
      "28\n"
     ]
    }
   ],
   "source": [
    "# Kiểm tra độ dài string\n",
    "print(len(\"Hello\"))\n",
    "print(len(course))\n",
    "print(len(shape))"
   ]
  },
  {
   "cell_type": "code",
   "execution_count": 83,
   "id": "1796bf51",
   "metadata": {},
   "outputs": [
    {
     "name": "stdout",
     "output_type": "stream",
     "text": [
      "o\n",
      "o\n"
     ]
    }
   ],
   "source": [
    "# Truy xuất ký tự bằng cơ chế indexing và reverse indexing\n",
    "print(course[4])  # indexing: đánh index(vị trí) từ trái sang phải, bắt đầu từ 0 và tăng dần\n",
    "print(course[-2])  # reverse indexing: đánh index từ phải sang trái, bắt đầu từ -1 và giảm dần"
   ]
  },
  {
   "cell_type": "markdown",
   "id": "e9a0c0c3",
   "metadata": {},
   "source": [
    "#### Thực hành: Viết chương trình nhập vào một chuỗi bất kỳ, sau đó in ra ký tự đầu tiên và ký tự cuối cùng của chuỗi đó."
   ]
  },
  {
   "cell_type": "code",
   "execution_count": null,
   "id": "229413f6",
   "metadata": {},
   "outputs": [],
   "source": []
  },
  {
   "cell_type": "code",
   "execution_count": 87,
   "id": "bc828175",
   "metadata": {},
   "outputs": [
    {
     "name": "stdout",
     "output_type": "stream",
     "text": [
      "Python\n",
      "Nguyen Van A\n",
      "Student,Python,6\n"
     ]
    }
   ],
   "source": [
    "# Cắt string theo index\n",
    "s = \"Nguyen Van A,Student,Python,6\"\n",
    "print(s[21:27])\n",
    "print(s[:12])\n",
    "print(s[13:])"
   ]
  },
  {
   "cell_type": "code",
   "execution_count": 90,
   "id": "b7b7e002",
   "metadata": {},
   "outputs": [
    {
     "name": "stdout",
     "output_type": "stream",
     "text": [
      "My name is Nguyen Van A. I am a Student. I'm studying Python\n",
      "StudentStudentStudentStudentStudent\n"
     ]
    }
   ],
   "source": [
    "# Ghép chuỗi và lặp chuỗi\n",
    "name = \"Nguyen Van A\"\n",
    "role = \"Student\"\n",
    "course = \"Python\"\n",
    "content = \"My name is \" + name + \". I am a \" + role + \". I'm studying \" + course\n",
    "print(content)\n",
    "print(role * 5)"
   ]
  },
  {
   "cell_type": "markdown",
   "id": "c1a465c6",
   "metadata": {},
   "source": [
    "#### Thực hành: Xử lý và in ra các thông tin tương ứng trong chuỗi"
   ]
  },
  {
   "cell_type": "code",
   "execution_count": null,
   "id": "01c43927",
   "metadata": {},
   "outputs": [],
   "source": [
    "s = \"CodeGym-Python Fundamental-lesson 6\"\n"
   ]
  },
  {
   "cell_type": "markdown",
   "id": "f769a612",
   "metadata": {},
   "source": [
    "### Các hàm thông dụng khi xử lý string"
   ]
  },
  {
   "cell_type": "code",
   "execution_count": 1,
   "id": "124369fd",
   "metadata": {},
   "outputs": [
    {
     "name": "stdout",
     "output_type": "stream",
     "text": [
      "9\n"
     ]
    }
   ],
   "source": [
    "# len\n",
    "s = \"abcdefghi\"\n",
    "print(len(s))"
   ]
  },
  {
   "cell_type": "code",
   "execution_count": 4,
   "id": "9edec669",
   "metadata": {},
   "outputs": [
    {
     "name": "stdout",
     "output_type": "stream",
     "text": [
      "Trong chuỗi s có 7 dấu gạch ngang\n",
      "Trong chuỗi s có 8 từ\n"
     ]
    }
   ],
   "source": [
    "# count\n",
    "# hàm count dùng để đếm số lần xuất hiện của một chuỗi con trong một chuỗi cho trước\n",
    "s = \"Cac_ham_thong_dung_khi_xu_ly_string\"\n",
    "total_underscore = s.count('_')\n",
    "\n",
    "print(f\"Trong chuỗi s có {total_underscore} dấu gạch ngang\")\n",
    "print(f\"Trong chuỗi s có {total_underscore + 1} từ\")"
   ]
  },
  {
   "cell_type": "code",
   "execution_count": 16,
   "id": "aa03b055",
   "metadata": {},
   "outputs": [
    {
     "name": "stdout",
     "output_type": "stream",
     "text": [
      "NHẬP XUẤT DỮ LIỆU   !@#45345\n",
      "nhập xuất dữ liệu   !@#45345\n",
      "Nhập xuất dữ liệu   !@#45345\n"
     ]
    }
   ],
   "source": [
    "# upper, lower\n",
    "s = \"NhẬp xUẤT dữ LIỆu   !@#45345\"\n",
    "print(s.upper())\n",
    "print(s.lower())\n",
    "print(s.capitalize())"
   ]
  },
  {
   "cell_type": "code",
   "execution_count": 12,
   "id": "73b7476e",
   "metadata": {},
   "outputs": [
    {
     "name": "stdout",
     "output_type": "stream",
     "text": [
      "                               Lâm      Đức          Long                          !!!\n",
      "Lâm      Đức          Long                          !!!\n",
      "                               Lâm      Đức          Long !!!\n",
      "Lâm      Đức          Long !!!\n"
     ]
    }
   ],
   "source": [
    "# lstrip, rstrip, strip\n",
    "# trailing spaces\n",
    "name = \"                               Lâm      Đức          Long                         \"\n",
    "print(name, \"!!!\")\n",
    "print(name.lstrip(), \"!!!\")\n",
    "print(name.rstrip(), \"!!!\")\n",
    "print(name.strip(), \"!!!\")"
   ]
  },
  {
   "cell_type": "code",
   "execution_count": 14,
   "id": "e49a3146",
   "metadata": {},
   "outputs": [
    {
     "name": "stdout",
     "output_type": "stream",
     "text": [
      "['Siri', ' synonymous to every other virtual assistant', ' is still one of the best virtual assistants one could ask for. Run-on all common Apple devices']\n"
     ]
    }
   ],
   "source": [
    "# split\n",
    "# cắt nhỏ chuỗi bằng delimiter cho trước\n",
    "s = \"Siri, synonymous to every other virtual assistant, is still one of the best virtual assistants one could ask for. Run-on all common Apple devices\"\n",
    "print(s.split(','))"
   ]
  },
  {
   "cell_type": "markdown",
   "id": "73ea2f76",
   "metadata": {},
   "source": []
  }
 ],
 "metadata": {
  "kernelspec": {
   "display_name": "Python 3 (ipykernel)",
   "language": "python",
   "name": "python3"
  },
  "language_info": {
   "codemirror_mode": {
    "name": "ipython",
    "version": 3
   },
   "file_extension": ".py",
   "mimetype": "text/x-python",
   "name": "python",
   "nbconvert_exporter": "python",
   "pygments_lexer": "ipython3",
   "version": "3.9.6"
  }
 },
 "nbformat": 4,
 "nbformat_minor": 5
}
